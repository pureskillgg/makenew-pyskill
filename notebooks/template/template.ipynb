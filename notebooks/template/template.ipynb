{
 "cells": [
  {
   "cell_type": "code",
   "execution_count": null,
   "id": "bddc2bf1",
   "metadata": {},
   "outputs": [],
   "source": [
    "from pureskillgg_makenew_pyskill.notebook import setup_notebook"
   ]
  },
  {
   "cell_type": "code",
   "execution_count": null,
   "id": "63725f9e",
   "metadata": {},
   "outputs": [],
   "source": [
    "setup_notebook()"
   ]
  },
  {
   "cell_type": "code",
   "execution_count": null,
   "id": "1b118fa2",
   "metadata": {},
   "outputs": [],
   "source": [
    "%load ../usual_suspects.py"
   ]
  },
  {
   "cell_type": "code",
   "execution_count": null,
   "id": "0d4540b0",
   "metadata": {},
   "outputs": [],
   "source": [
    "tomer = curator.make_tome(\n",
    "    'counter_strafing',\n",
    "    header_tome_name = \"subheader_tome_all\",\n",
    "    behavior_if_partial='continue',\n",
    "    max_page_size_mb=1,\n",
    "    ds_reading_instructions=[\n",
    "        {\n",
    "            \"channel\": 'player_info',\n",
    "            \"columns\":['player_id_fixed','rank','wins','round']\n",
    "        },\n",
    "        {\n",
    "            \"channel\": 'weapon_fire',\n",
    "            \"columns\":['tick','weapon_name','player_id_fixed']\n",
    "        },\n",
    "        {\n",
    "            \"channel\": 'header'\n",
    "        },\n",
    "        {\n",
    "            \"channel\": 'player_vector',\n",
    "            \"columns\":[\n",
    "                'tick',\n",
    "                'player_id_fixed',\n",
    "                'z_vel',\n",
    "                'recoil_index',\n",
    "                'speed_2d',\n",
    "                'duck_amount']\n",
    "        },\n",
    "    ])"
   ]
  },
  {
   "cell_type": "code",
   "execution_count": null,
   "id": "ca1fa4ae",
   "metadata": {},
   "outputs": [],
   "source": [
    "for data, key in tomer.iterate():\n",
    "    df = extract_cool_df(data)\n",
    "    tomer.concat(df)\n",
    "        "
   ]
  },
  {
   "cell_type": "code",
   "execution_count": null,
   "id": "afc67a92",
   "metadata": {},
   "outputs": [],
   "source": []
  }
 ],
 "metadata": {
  "kernelspec": {
   "display_name": "Python 3 (ipykernel)",
   "language": "python",
   "name": "python3"
  },
  "language_info": {
   "codemirror_mode": {
    "name": "ipython",
    "version": 3
   },
   "file_extension": ".py",
   "mimetype": "text/x-python",
   "name": "python",
   "nbconvert_exporter": "python",
   "pygments_lexer": "ipython3",
   "version": "3.9.10"
  }
 },
 "nbformat": 4,
 "nbformat_minor": 5
}
