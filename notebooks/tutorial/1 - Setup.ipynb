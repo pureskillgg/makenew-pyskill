{
 "cells": [
  {
   "cell_type": "markdown",
   "id": "78b0fe43",
   "metadata": {},
   "source": [
    "## Welcome\n",
    "\n",
    "Welcome to the PureSkill.gg data science and coaching system. Data from CS:GO matches were extracted into files we call \"Counter Strike Data Science\" or CSDS files. We have found that working with these files locally is sufficient for most data science operations. Working in the cloud is possible but may require extending some of our software.\n",
    "\n",
    "Individual match data are in the CSDS files, and we engineer and combine data from many matches into a \"tome\". Tomes are made through the tome creator. The tomes are great for training models and visualizing the data across many matches.\n",
    "\n",
    "In this tutorial, we will setup the enviornment, download a sample of data, create header tomes, explore some match data to create an engineering pipeline, apply that pipeline to the sample data to create a tome, and finally go through that tome to train a model."
   ]
  },
  {
   "cell_type": "markdown",
   "id": "b3fd27b4",
   "metadata": {},
   "source": [
    "## Setup your AWS credentials\n",
    "\n",
    "Follow the [guide on setting up AWS credentials](https://boto3.amazonaws.com/v1/documentation/api/latest/guide/quickstart.html#configuration) to properly download things from the AWS Data Exchange."
   ]
  },
  {
   "cell_type": "markdown",
   "id": "937d17f2",
   "metadata": {},
   "source": [
    "## Setup  your enviornment\n",
    "\n",
    "Setup your enviornment to find all the yummy data science files on your computer box. We must set three things, \n",
    "\n",
    "1. Where you will save the data science files.\n",
    "1. Where you will save your tomes (views of the data). Can be the same as step 1.\n",
    "1. What to call your header tome.\n",
    "\n",
    "These will be saved in a `.env` file in the `notebooks` folder. \n",
    "\n",
    "By convention, the tome names are in this format: `tome_name.start-date,end-data.comment`\n",
    "\n",
    "The `start-date` (inclusive) and `end-date` (exclusive) are the beginning and end of the data included in that tome and are in yyyy-mm-dd format.\n",
    "\n",
    "_**Fill out with your specific paths in the cell below, then run the notebook.**_\n"
   ]
  },
  {
   "cell_type": "code",
   "execution_count": null,
   "id": "4933e25b",
   "metadata": {},
   "outputs": [],
   "source": [
    "import os\n",
    "tome_collection_path = os.path.join('..','..','tmp')\n",
    "ds_collection_path = os.path.join('..','..','tmp')\n",
    "header_name = 'header_tome.2022-05-15,2022-05-15'"
   ]
  },
  {
   "cell_type": "code",
   "execution_count": null,
   "id": "ec2873e1",
   "metadata": {},
   "outputs": [],
   "source": [
    "import platform\n",
    "import re\n",
    "import warnings\n",
    "\n",
    "if not re.match(\"\\S+.\\d{4}-\\d{2}-\\d{2},\\d{4}-\\d{2}-\\d{2}.*\\S*\",header_name):\n",
    "    warnings.warn(f'Header name of {header_name} does not match convention of tome_name.start-date,end-data.comment')\n",
    "\n",
    "ds_type = 'csds'\n",
    "    \n",
    "tome_collection_path = os.path.abspath(tome_collection_path)\n",
    "ds_collection_path = os.path.abspath(ds_collection_path)\n",
    "\n",
    "system = platform.system()\n",
    "with open(os.path.join('..','.env'), 'w') as f:\n",
    "    if system == 'Windows':\n",
    "        f.write(f'export PURESKILLGG_TOME_DEFAULT_HEADER_NAME={header_name}\\n')\n",
    "        f.write(f'export PURESKILLGG_TOME_COLLECTION_PATH={tome_collection_path}\\n')\n",
    "        f.write(f'export PURESKILLGG_TOME_DS_COLLECTION_PATH={ds_collection_path}\\n')\n",
    "        f.write(f'export PURESKILLGG_TOME_DS_TYPE={ds_type}\\n')\n",
    "    elif system == 'Mac':\n",
    "        f.write(f'PURESKILLGG_TOME_DEFAULT_HEADER_NAME = {header_name}\\n')\n",
    "        f.write(f'PURESKILLGG_TOME_COLLECTION_PATH = {tome_collection_path}\\n')\n",
    "        f.write(f'PURESKILLGG_TOME_DS_COLLECTION_PATH = {ds_collection_path}\\n')\n",
    "        f.write(f'PURESKILLGG_TOME_DS_TYPE = {ds_type}\\n')\n",
    "    else:\n",
    "        f.write(f'PURESKILLGG_TOME_DEFAULT_HEADER_NAME={header_name}\\n')\n",
    "        f.write(f'PURESKILLGG_TOME_COLLECTION_PATH={tome_collection_path}\\n')\n",
    "        f.write(f'PURESKILLGG_TOME_DS_COLLECTION_PATH={ds_collection_path}\\n')\n",
    "        f.write(f'PURESKILLGG_TOME_DS_TYPE={ds_type}\\n')\n",
    "        if system != 'Linux':\n",
    "            print('unknown OS. The .env file was saved using linux syntax. If that is not right please edit it yourself lol.')\n",
    "with open(os.path.join('..','.env'), 'r') as f:\n",
    "    print(f.read())"
   ]
  },
  {
   "cell_type": "markdown",
   "id": "b776ea34",
   "metadata": {},
   "source": [
    "## Optional: Setup your usual suspects\n",
    "\n",
    "At the top of most notebooks to do data science, we find ourselves importing the same things over and over. Rather than searching through notebooks to copy-paste that, we put this common code into `../usual_suspects.py`. That way, we can use jupyter magic of `%load ../usual_suspects.py` to pull that code into a cell. After running the magic, it will comment out the `%load` line and the code within `../usual_suspects.py` will appear. *Run the cell again to run that code.*\n",
    "\n",
    "_**Optionally edit usual_suspects.py in the notebooks folder to help you start up new notebooks. Then run the cell below to see it in action.**_"
   ]
  },
  {
   "cell_type": "code",
   "execution_count": null,
   "id": "ca580b3e",
   "metadata": {},
   "outputs": [],
   "source": [
    "%load ../usual_suspects.py"
   ]
  }
 ],
 "metadata": {
  "kernelspec": {
   "display_name": "Python 3 (ipykernel)",
   "language": "python",
   "name": "python3"
  },
  "language_info": {
   "codemirror_mode": {
    "name": "ipython",
    "version": 3
   },
   "file_extension": ".py",
   "mimetype": "text/x-python",
   "name": "python",
   "nbconvert_exporter": "python",
   "pygments_lexer": "ipython3",
   "version": "3.9.12"
  }
 },
 "nbformat": 4,
 "nbformat_minor": 5
}
