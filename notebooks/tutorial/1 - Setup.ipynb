{
 "cells": [
  {
   "cell_type": "markdown",
   "id": "78b0fe43",
   "metadata": {},
   "source": [
    "## Welcome\n",
    "\n",
    "Welcome to the PureSkill.gg "
   ]
  },
  {
   "cell_type": "markdown",
   "id": "937d17f2",
   "metadata": {},
   "source": [
    "## Setup  your enviornment\n",
    "\n",
    "Setup your enviornment to find all the yummy data science files on your computer box. We must set three things, \n",
    "\n",
    "1. Where you will save the data science files.\n",
    "1. Where you will save your tomes (views of the data).\n",
    "1. What to call your header tome.\n",
    "\n",
    "These will be saved in a `.env` file in the `notebooks` folder. Fill these out below."
   ]
  },
  {
   "cell_type": "code",
   "execution_count": null,
   "id": "4933e25b",
   "metadata": {},
   "outputs": [],
   "source": [
    "collection_path = 'PATH/TO/TOMES'\n",
    "ds_collection_path = 'PATH/TO/CSDS'"
   ]
  },
  {
   "cell_type": "code",
   "execution_count": null,
   "id": "ec2873e1",
   "metadata": {},
   "outputs": [],
   "source": [
    "import os\n",
    "import platform\n",
    "\n",
    "header_name = 'header_tome'\n",
    "ds_type = 'csds'\n",
    "\n",
    "if collection_path == 'PATH/TO/TOMES':\n",
    "    collection_path = os.path.join('..','..','tmp','tomes')\n",
    "if ds_collection_path == 'PATH/TO/CSDS':\n",
    "    ds_collection_path = os.path.join('..','..','tmp','data')\n",
    "    \n",
    "collection_path = os.path.abspath(collection_path)\n",
    "ds_collection_path = os.path.abspath(ds_collection_path)\n",
    "\n",
    "system = platform.system()\n",
    "with open(os.path.join('..','.env'), 'w') as f:\n",
    "    if system == 'Windows':\n",
    "        f.write(f'export PURESKILLGG_TOME_DEFAULT_HEADER_NAME={header_name}\\n')\n",
    "        f.write(f'export PURESKILLGG_TOME_COLLECTION_PATH={collection_path}\\n')\n",
    "        f.write(f'export PURESKILLGG_TOME_DS_COLLECTION_PATH={ds_collection_path}\\n')\n",
    "        f.write(f'export PURESKILLGG_TOME_DS_TYPE={ds_type}\\n')\n",
    "    elif system == 'Mac':\n",
    "        f.write(f'PURESKILLGG_TOME_DEFAULT_HEADER_NAME = {header_name}\\n')\n",
    "        f.write(f'PURESKILLGG_TOME_COLLECTION_PATH = {collection_path}\\n')\n",
    "        f.write(f'PURESKILLGG_TOME_DS_COLLECTION_PATH = {ds_collection_path}\\n')\n",
    "        f.write(f'PURESKILLGG_TOME_DS_TYPE = {ds_type}\\n')\n",
    "    else:\n",
    "        f.write(f'PURESKILLGG_TOME_DEFAULT_HEADER_NAME={header_name}\\n')\n",
    "        f.write(f'PURESKILLGG_TOME_COLLECTION_PATH={collection_path}\\n')\n",
    "        f.write(f'PURESKILLGG_TOME_DS_COLLECTION_PATH={ds_collection_path}\\n')\n",
    "        f.write(f'PURESKILLGG_TOME_DS_TYPE={ds_type}\\n')\n",
    "        if system != 'Linux':\n",
    "            print('unknown OS. The .env file was saved using linux syntax. If that is not right please edit it yourself lol.')\n",
    "with open(os.path.join('..','.env'), 'r') as f:\n",
    "    print(f.read())"
   ]
  }
 ],
 "metadata": {
  "kernelspec": {
   "display_name": "Python 3 (ipykernel)",
   "language": "python",
   "name": "python3"
  },
  "language_info": {
   "codemirror_mode": {
    "name": "ipython",
    "version": 3
   },
   "file_extension": ".py",
   "mimetype": "text/x-python",
   "name": "python",
   "nbconvert_exporter": "python",
   "pygments_lexer": "ipython3",
   "version": "3.9.10"
  }
 },
 "nbformat": 4,
 "nbformat_minor": 5
}
