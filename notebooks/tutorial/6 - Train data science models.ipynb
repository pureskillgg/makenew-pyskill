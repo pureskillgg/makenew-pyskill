{
 "cells": [
  {
   "cell_type": "markdown",
   "id": "55b68a58",
   "metadata": {},
   "source": [
    "## Explore tome and train models\n",
    "\n",
    "A tome consists of four things\n",
    "\n",
    "- **The keysets** - A simple list of keys that are included in this tome.\n",
    "- **The dataframes** - The data.\n",
    "- **The manifest** - A listing of availble keyset/dataframe files and other metadata about the tome.\n",
    "- **The header** - This provides the target list of keys while making the tome. Generally used by internal processes only. This is what makes tomes \"immutable\" once started or finished.\n",
    "\n",
    "Because they can be large, the combined dataframe data are saved in separate files called \"pages\". You can set a max (memory) size for each page when making a tome.\n",
    "\n",
    "Let's read in that tome and train a model to go from number of footsteps to rank, obviously.\n",
    "\n",
    "_**Run this notebook as-is.**_"
   ]
  },
  {
   "cell_type": "code",
   "execution_count": null,
   "id": "461fd17e",
   "metadata": {},
   "outputs": [],
   "source": [
    "from pureskillgg_makenew_pyskill.notebook import setup_notebook"
   ]
  },
  {
   "cell_type": "code",
   "execution_count": null,
   "id": "25efcdd5",
   "metadata": {},
   "outputs": [],
   "source": [
    "setup_notebook(silent=True)"
   ]
  },
  {
   "cell_type": "code",
   "execution_count": null,
   "id": "1cba959d",
   "metadata": {},
   "outputs": [],
   "source": [
    "# %load ../usual_suspects.py\n",
    "# pylint: disable=unused-import\n",
    "import time\n",
    "import os\n",
    "\n",
    "import pandas as pd\n",
    "import numpy as np\n",
    "import matplotlib.pyplot as plt\n",
    "\n",
    "from pureskillgg_dsdk.tome import create_tome_curator\n",
    "\n",
    "pd.set_option(\"display.max_columns\", 150)\n",
    "pd.set_option(\"display.max_rows\", 150)\n",
    "pd.set_option(\"display.min_rows\", 150)\n",
    "# pd.set_option('display.float_format', '{:.4f}'.format)\n",
    "\n",
    "curator = create_tome_curator()\n"
   ]
  },
  {
   "cell_type": "code",
   "execution_count": null,
   "id": "6364d528",
   "metadata": {},
   "outputs": [],
   "source": [
    "df = curator.get_dataframe('footsteps_by_rank')\n",
    "keyset = curator.get_keyset('footsteps_by_rank')"
   ]
  },
  {
   "cell_type": "code",
   "execution_count": null,
   "id": "5ecd6dcc",
   "metadata": {},
   "outputs": [],
   "source": [
    "print(len(df),len(keyset))"
   ]
  },
  {
   "cell_type": "code",
   "execution_count": null,
   "id": "b2907a8d",
   "metadata": {},
   "outputs": [],
   "source": [
    "df.head(25)"
   ]
  },
  {
   "cell_type": "markdown",
   "id": "73fa1640",
   "metadata": {},
   "source": [
    "## Training a model left as exercise to user\n",
    "\n",
    ":) "
   ]
  },
  {
   "cell_type": "code",
   "execution_count": null,
   "id": "7c3a15e3",
   "metadata": {},
   "outputs": [],
   "source": [
    "df['rank_fixed']=df['rank'].apply(lambda x: x/2).apply(round)\n",
    "\n",
    "df.groupby('rank_fixed',as_index=False).max()"
   ]
  },
  {
   "cell_type": "code",
   "execution_count": null,
   "id": "0fff4c68",
   "metadata": {},
   "outputs": [],
   "source": []
  },
  {
   "cell_type": "code",
   "execution_count": null,
   "id": "9ac208e0",
   "metadata": {},
   "outputs": [],
   "source": []
  }
 ],
 "metadata": {
  "kernelspec": {
   "display_name": "Python 3 (ipykernel)",
   "language": "python",
   "name": "python3"
  },
  "language_info": {
   "codemirror_mode": {
    "name": "ipython",
    "version": 3
   },
   "file_extension": ".py",
   "mimetype": "text/x-python",
   "name": "python",
   "nbconvert_exporter": "python",
   "pygments_lexer": "ipython3",
   "version": "3.9.10"
  }
 },
 "nbformat": 4,
 "nbformat_minor": 5
}
