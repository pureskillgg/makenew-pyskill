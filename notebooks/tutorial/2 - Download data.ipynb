{
 "cells": [
  {
   "cell_type": "markdown",
   "id": "f18cb73e",
   "metadata": {},
   "source": [
    "## What are these CSDS files?\n",
    "\n",
    "In this notebook, you will download the sample CSDS data for 4 matches. CSDS stands for Counter Strike Data Science. We extract data from each demo file into outputs called channels. Each channel is one of four types.\n",
    "\n",
    "- Telemetry: Information as a function of time\n",
    "- Single event: Information for a single event type\n",
    "- Multi event: Information for several events of similar type grouped together (For example, bomb events)\n",
    "- Header: Metadata about the map such as map_name or tick_rate\n",
    "\n",
    "There are 33 channels, and you can see more information about each in the manifest file. They are all compressed parquet files except for the manifest, which is gzipped json. When we read in a CSDS file, we generally don't need all channels, so our reader will accept \"instructions\" that describe which channels and columns to read. An example of some instructions are in step 5.\n",
    "\n",
    "Each demo goes through our parser then through a post-parser processor (PPP) that fixes certain things and extends some channels with info from other channels. For instance, most events have a `player_id` attached to them, but this ID can be two different numbers for the same person if they disconnect and reconnect to the server. Therefore we added `player_id_fixed` which is tied to steam id and does not change even if a player disconnects or reconnects."
   ]
  },
  {
   "cell_type": "markdown",
   "id": "fd89acd0",
   "metadata": {},
   "source": [
    "## Downloading the data\n",
    "\n",
    "We built in a simple downloader for the sample data. The properties of the sample data are:\n",
    "\n",
    "- 4 matches\n",
    "- ~120 files \n",
    "- ~100mb\n",
    "- ~10 seconds to download\n",
    "\n",
    "For the main dataset of 60k+ matches, you need to subscribe to the [product on the AWS Data Exchange](https://aws.amazon.com/marketplace/pp/prodview-v3o7zrt6okwmo).\n",
    "\n",
    "The use license will be in your `PURESKILLGG_TOME_DS_COLLECTION_PATH` named `license.pdf`. You must agree to these terms to use the data.\n",
    "\n",
    "Note: you can safely stop and restart this downloader."
   ]
  },
  {
   "cell_type": "code",
   "execution_count": null,
   "id": "6015f4af",
   "metadata": {},
   "outputs": [],
   "source": [
    "from pureskillgg_makenew_pyskill.notebook import setup_notebook"
   ]
  },
  {
   "cell_type": "code",
   "execution_count": null,
   "id": "769a14fc",
   "metadata": {},
   "outputs": [],
   "source": [
    "# Set environment variables\n",
    "setup_notebook()"
   ]
  },
  {
   "cell_type": "code",
   "execution_count": null,
   "id": "ca8607a0",
   "metadata": {},
   "outputs": [],
   "source": [
    "import os\n",
    "import requests\n",
    "import zipfile"
   ]
  },
  {
   "cell_type": "code",
   "execution_count": null,
   "id": "dc4195b1",
   "metadata": {},
   "outputs": [],
   "source": [
    "# # Choose our Data Science collection path as the location to save\n",
    "dataset_sample_urls = [\n",
    "    \"https://d1ewbp317vsrbd.cloudfront.net/91b4d9a6-26a7-4c2e-838f-ba8d86c2b8b2.zip\",\n",
    "    \"https://d1ewbp317vsrbd.cloudfront.net/4f6a3d09-99e8-476a-ba30-c7ee1992a276.zip\"\n",
    "]\n",
    "\n",
    "ds_collection_path = os.environ.get('PURESKILLGG_TOME_DS_COLLECTION_PATH')\n",
    "\n",
    "for index, url in enumerate(dataset_sample_urls):\n",
    "    output_filename = os.path.join(ds_collection_path,f\"sample_{index}.zip\")\n",
    "    if os.path.exists(output_filename):\n",
    "        continue\n",
    "\n",
    "    response = requests.get(url)\n",
    "    with open(output_filename, \"wb\") as f:\n",
    "        f.write(response.content)\n",
    "        \n",
    "    with zipfile.ZipFile(output_filename, 'r') as zip_ref:\n",
    "        zip_ref.extractall(ds_collection_path)"
   ]
  }
 ],
 "metadata": {
  "kernelspec": {
   "display_name": "Python 3 (ipykernel)",
   "language": "python",
   "name": "python3"
  },
  "language_info": {
   "codemirror_mode": {
    "name": "ipython",
    "version": 3
   },
   "file_extension": ".py",
   "mimetype": "text/x-python",
   "name": "python",
   "nbconvert_exporter": "python",
   "pygments_lexer": "ipython3",
   "version": "3.9.10"
  }
 },
 "nbformat": 4,
 "nbformat_minor": 5
}
