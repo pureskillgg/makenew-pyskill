{
 "cells": [
  {
   "cell_type": "markdown",
   "id": "fd89acd0",
   "metadata": {},
   "source": [
    "## Downloading the data\n",
    "\n",
    "We built in a simple downloader for the sample data. The sample data are 12 matches and consist of ~400 files and ~300mb and takes ~20 minutes to download with the simple downloader. For a larger dataset, you may want to copy the data to your S3 bucket then use something like `aws s3 sync s3://your-cool-bucket/sample-csds-micro .` to download locally.\n",
    "\n",
    "Set your `dataset_id` from AWS. You can find this by: \n",
    "\n",
    "- Log in to AWS and go to the AWS Data Exchange.\n",
    "- Under \"My Subscriptions\" click \"Entitled data\".\n",
    "- Find `PureSkill.gg Competitive CS:GO Sample Data` in the list.\n",
    "- Expand the dropdown to find `sample-csds-micro` and click on it.\n",
    "- Expand the \"Data set overview\" box near the top to reveal the Data set ID.\n",
    "\n",
    "_**Replace the `dataset_id` parameter below with your particular ID then run the notebook.**_\n",
    "\n",
    "Note: you can safely stop and restart this downloader."
   ]
  },
  {
   "cell_type": "code",
   "execution_count": null,
   "id": "2956eaa7",
   "metadata": {},
   "outputs": [],
   "source": [
    "dataset_id = 'ADD_DATASET_ID_HERE'"
   ]
  },
  {
   "cell_type": "code",
   "execution_count": null,
   "id": "ca8607a0",
   "metadata": {},
   "outputs": [],
   "source": [
    "import os\n",
    "from pureskillgg_makenew_pyskill.notebook import setup_notebook\n",
    "from pureskillgg_dsdk.exchange import download_dataexchange_dataset_revision\n",
    "\n",
    "setup_notebook(silent=True)"
   ]
  },
  {
   "cell_type": "code",
   "execution_count": null,
   "id": "c63629e9",
   "metadata": {
    "scrolled": true
   },
   "outputs": [],
   "source": [
    "output_path = os.environ.get('PURESKILLGG_TOME_DS_COLLECTION_PATH')\n",
    "download_dataexchange_dataset_revision(output_path, dataset_id)"
   ]
  },
  {
   "cell_type": "code",
   "execution_count": null,
   "id": "a6843a27",
   "metadata": {},
   "outputs": [],
   "source": []
  }
 ],
 "metadata": {
  "kernelspec": {
   "display_name": "Python 3 (ipykernel)",
   "language": "python",
   "name": "python3"
  },
  "language_info": {
   "codemirror_mode": {
    "name": "ipython",
    "version": 3
   },
   "file_extension": ".py",
   "mimetype": "text/x-python",
   "name": "python",
   "nbconvert_exporter": "python",
   "pygments_lexer": "ipython3",
   "version": "3.9.10"
  }
 },
 "nbformat": 4,
 "nbformat_minor": 5
}
