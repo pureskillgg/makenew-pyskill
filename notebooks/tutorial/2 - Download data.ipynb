{
 "cells": [
  {
   "cell_type": "markdown",
   "id": "f18cb73e",
   "metadata": {},
   "source": [
    "## What are these CSDS files?\n",
    "\n",
    "In this notebook, you will download the sample CSDS data for 4 matches. CSDS stands for Counter Strike Data Science. We extract data from each demo file into outputs called channels. Each channel is one of four types.\n",
    "\n",
    "- Telemetry: Information as a function of time\n",
    "- Single event: Information for a single event type\n",
    "- Multi event: Information for several events of similar type grouped together (For example, bomb events)\n",
    "- Header: Metadata about the map such as map_name or tick_rate\n",
    "\n",
    "There are 33 channels, and you can see more information about each in the manifest file. They are all compressed parquet files except for the manifest, which is gzipped json. When we read in a CSDS file, we generally don't need all channels, so our reader will accept \"instructions\" that describe which channels and columns to read. An example of some instructions are in step 5.\n",
    "\n",
    "Check out the [csds specs](https://docs.pureskill.gg/datascience/adx/csgo/csds/spec).\n",
    "\n",
    "Each demo goes through our parser then through a post-parser processor (PPP) that fixes certain things and extends some channels with info from other channels. For instance, most events have a `player_id` attached to them, but this ID can be two different numbers for the same person if they disconnect and reconnect to the server. Therefore we added `player_id_fixed` which is tied to steam id and does not change even if a player disconnects or reconnects."
   ]
  },
  {
   "cell_type": "markdown",
   "id": "fd89acd0",
   "metadata": {},
   "source": [
    "## Downloading the data\n",
    "\n",
    "We built in a simple downloader for the sample data. The properties of the sample data are:\n",
    "\n",
    "- 9 matches\n",
    "- ~300 files \n",
    "- ~200mb\n",
    "- ~45 seconds to download\n",
    "\n",
    "For the main dataset of 60k+ matches, you need to subscribe to the [product on the AWS Data Exchange](https://aws.amazon.com/marketplace/pp/prodview-v3o7zrt6okwmo).\n",
    "\n",
    "The use license will be in your `PURESKILLGG_TOME_DS_COLLECTION_PATH` named `LICENSE.pdf`. You must agree to these terms to use the data. See `README.md` for more information.\n",
    "\n",
    "Note: you can safely stop and restart this downloader."
   ]
  },
  {
   "cell_type": "code",
   "execution_count": null,
   "id": "6015f4af",
   "metadata": {},
   "outputs": [],
   "source": [
    "from pureskillgg_makenew_pyskill.notebook import setup_notebook"
   ]
  },
  {
   "cell_type": "code",
   "execution_count": null,
   "id": "769a14fc",
   "metadata": {},
   "outputs": [],
   "source": [
    "# Set environment variables\n",
    "setup_notebook()"
   ]
  },
  {
   "cell_type": "code",
   "execution_count": null,
   "id": "ca8607a0",
   "metadata": {},
   "outputs": [],
   "source": [
    "import os\n",
    "import io\n",
    "import zipfile\n",
    "import requests"
   ]
  },
  {
   "cell_type": "code",
   "execution_count": null,
   "id": "dc4195b1",
   "metadata": {},
   "outputs": [],
   "source": [
    "# # Choose our Data Science collection path as the location to save\n",
    "dataset_sample_urls = [\n",
    "    \"https://d1ewbp317vsrbd.cloudfront.net/a1b80cdb-d15a-4828-b955-f0f42c45109c.zip\",\n",
    "    \"https://d1ewbp317vsrbd.cloudfront.net/d39ba8f3-a61f-4bad-8550-42ec3fcf0e67.zip\",\n",
    "    \"https://d1ewbp317vsrbd.cloudfront.net/dfc0bf8a-2cd1-4073-9725-c70018f2c2fd.zip\",\n",
    "    \"https://d1ewbp317vsrbd.cloudfront.net/f7030153-7383-481a-87eb-450fa5cc408e.zip\",\n",
    "    \"https://d1ewbp317vsrbd.cloudfront.net/87303b35-34eb-4590-a058-f4d734987291.zip\",\n",
    "    \"https://d1ewbp317vsrbd.cloudfront.net/24321cdc-d788-46b4-8c2d-a7d385cdcd75.zip\",\n",
    "    \"https://d1ewbp317vsrbd.cloudfront.net/85e30395-da9a-4f40-b3eb-e173ab42df6d.zip\"\n",
    "]\n",
    "\n",
    "ds_collection_path = os.environ.get('PURESKILLGG_TOME_DS_COLLECTION_PATH')\n",
    "\n",
    "if not os.path.isdir(ds_collection_path):\n",
    "    os.makedirs(ds_collection_path)\n",
    "\n",
    "for index, url in enumerate(dataset_sample_urls):\n",
    "    print(\"working on \",url)\n",
    "    response = requests.get(url)\n",
    "    bytes_content = io.BytesIO(response.content)\n",
    "    zip_ref = zipfile.ZipFile(bytes_content)\n",
    "    zip_ref.extractall(ds_collection_path)"
   ]
  },
  {
   "cell_type": "markdown",
   "id": "a50ad8bf",
   "metadata": {},
   "source": [
    "Advance to the [next notebook](3%20-%20Make%20header%20tome.ipynb)."
   ]
  },
  {
   "cell_type": "code",
   "execution_count": null,
   "id": "e3590d03",
   "metadata": {},
   "outputs": [],
   "source": []
  }
 ],
 "metadata": {
  "kernelspec": {
   "display_name": "Python 3 (ipykernel)",
   "language": "python",
   "name": "python3"
  },
  "language_info": {
   "codemirror_mode": {
    "name": "ipython",
    "version": 3
   },
   "file_extension": ".py",
   "mimetype": "text/x-python",
   "name": "python",
   "nbconvert_exporter": "python",
   "pygments_lexer": "ipython3",
   "version": "3.9.12"
  }
 },
 "nbformat": 4,
 "nbformat_minor": 5
}
