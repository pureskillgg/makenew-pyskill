{
 "cells": [
  {
   "cell_type": "markdown",
   "id": "f18cb73e",
   "metadata": {},
   "source": [
    "## What are these CSDS files?\n",
    "\n",
    "In this notebook, you will download the sample CSDS data for 12 matches. CSDS stands for Counter Strike Data Science. We extract data from each demo file into outputs called channels. Each channel is one of four types.\n",
    "\n",
    "- Telemetry: Information as a function of time\n",
    "- Single event: Information for a single event type\n",
    "- Multi event: Information for several events of similar type grouped together (For example, bomb events)\n",
    "- Header: Metadata about the map such as map_name or tick_rate\n",
    "\n",
    "There are 33 channels, and you can see more information about each in the manifest file. They are all compressed parquet files except for the manifest, which is gzipped json. When we read in a CSDS file, we generally don't need all channels, so our reader will accept \"instructions\" that describe which channels and columns to read. An example of some instructions are in step 5.\n",
    "\n",
    "Each demo goes through our parser then through a post-parser processor (PPP) that fixes certain things and extends some channels with info from other channels. For instance, most events have a `player_id` attached to them, but this ID can be two different numbers for the same person if they disconnect and reconnect to the server. Therefore we added `player_id_fixed` which is tied to steam id and does not change even if a player disconnects or reconnects."
   ]
  },
  {
   "cell_type": "markdown",
   "id": "fd89acd0",
   "metadata": {},
   "source": [
    "## Downloading the data\n",
    "\n",
    "We built in a simple downloader for the sample data. The properties of the sample data are:\n",
    "\n",
    "- 12 matches\n",
    "- ~400 files \n",
    "- ~300mb\n",
    "- ~20 minutes to download with the simple downloader\n",
    "\n",
    "For a larger dataset, you should copy the dataset to your s3 bucket and download it from there.\n",
    "\n",
    "Set your `dataset_id` from AWS. Follow these steps:\n",
    "\n",
    "- Log in to AWS.\n",
    "- Subscribe to the [Sample dataset](https://aws.amazon.com/marketplace/pp/prodview-42sep6wtmcfvg) if you have not already.\n",
    "- Navigate to the AWS Data Exchange.\n",
    "- Under \"My Subscriptions\" click \"Entitled data\".\n",
    "- Find `PureSkill.gg Competitive CS:GO Sample Data` in the list.\n",
    "- Expand the dropdown to find `sample-csds-micro` and click on it.\n",
    "- Expand the \"Data set overview\" box near the top to reveal the Data set ID.\n",
    "\n",
    "_**Replace the `dataset_id` parameter below with your particular ID then run the notebook.**_\n",
    "\n",
    "Note: you can safely stop and restart this downloader."
   ]
  },
  {
   "cell_type": "code",
   "execution_count": null,
   "id": "2956eaa7",
   "metadata": {},
   "outputs": [],
   "source": [
    "dataset_id = '27cb2d5cd702007de08d8d08417c9c40'"
   ]
  },
  {
   "cell_type": "code",
   "execution_count": null,
   "id": "6015f4af",
   "metadata": {},
   "outputs": [],
   "source": [
    "from pureskillgg_makenew_pyskill.notebook import setup_notebook"
   ]
  },
  {
   "cell_type": "code",
   "execution_count": null,
   "id": "769a14fc",
   "metadata": {},
   "outputs": [],
   "source": [
    "# Set environment variables\n",
    "setup_notebook()"
   ]
  },
  {
   "cell_type": "code",
   "execution_count": null,
   "id": "ca8607a0",
   "metadata": {},
   "outputs": [],
   "source": [
    "import os\n",
    "from pureskillgg_dsdk.exchange import download_dataexchange_dataset_revision"
   ]
  },
  {
   "cell_type": "code",
   "execution_count": null,
   "id": "c63629e9",
   "metadata": {
    "scrolled": true
   },
   "outputs": [],
   "source": [
    "# Choose our Data Science collection path as the location to save\n",
    "output_path = os.environ.get('PURESKILLGG_TOME_DS_COLLECTION_PATH')\n",
    "\n",
    "# Download the data\n",
    "download_dataexchange_dataset_revision(output_path, dataset_id)"
   ]
  }
 ],
 "metadata": {
  "kernelspec": {
   "display_name": "Python 3 (ipykernel)",
   "language": "python",
   "name": "python3"
  },
  "language_info": {
   "codemirror_mode": {
    "name": "ipython",
    "version": 3
   },
   "file_extension": ".py",
   "mimetype": "text/x-python",
   "name": "python",
   "nbconvert_exporter": "python",
   "pygments_lexer": "ipython3",
   "version": "3.9.10"
  }
 },
 "nbformat": 4,
 "nbformat_minor": 5
}
