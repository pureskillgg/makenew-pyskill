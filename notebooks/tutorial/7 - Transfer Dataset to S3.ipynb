{
 "cells": [
  {
   "cell_type": "markdown",
   "id": "1c71b7c4",
   "metadata": {},
   "source": [
    "# Download the data to your S3 buckets\n",
    "\n",
    "**Be sure to subscribe to the [product](https://aws.amazon.com/marketplace/pp/prodview-v3o7zrt6okwmo) before running this notebook.**\n",
    "\n",
    "The main dataset is on the Amazon Web Services Data Exchange (ADX), and it contains:\n",
    "\n",
    "- 60,000+ CS:GO matches \n",
    "- 2,000,000+ files  \n",
    "- 150+ days of data\n",
    "- 2TB+ of data\n",
    "\n",
    "Each day's worth of data is a revision on the ADX. This allows for granular download volume. Each day *on average* is **13GB** and has **350 matches**.\n",
    "\n",
    "The number of matches in each revision can be between 200 and 1500, so if you don't get enough you can always download more.\n",
    "\n",
    "_**Edit the following in the cell below**_\n",
    "- **Bucket name** for where you want the data\n",
    "- **Date range** to choose how many days worth of existing data to download\n",
    "- **Flag** for you want to download new data automatically (there is a new revision every day)"
   ]
  },
  {
   "cell_type": "code",
   "execution_count": null,
   "id": "fbb34f05",
   "metadata": {},
   "outputs": [],
   "source": [
    "dest_bucket = 'my-bucket'\n",
    "begin_date = '2021-12-01T00:00:00.000Z' #inclusive\n",
    "end_date = '2022-05-31T00:00:00.000Z' #inclusive\n",
    "auto_download_new_data = True\n",
    "\n",
    "## one month worth of data\n",
    "# begin_date = '2022-04-01T00:00:00.000Z' #inclusive\n",
    "# end_date = '2022-04-30T00:00:00.000Z' #inclusive"
   ]
  },
  {
   "cell_type": "code",
   "execution_count": null,
   "id": "16af2908",
   "metadata": {},
   "outputs": [],
   "source": [
    "from pureskillgg_makenew_pyskill.notebook import setup_notebook"
   ]
  },
  {
   "cell_type": "code",
   "execution_count": null,
   "id": "e9e070ad",
   "metadata": {},
   "outputs": [],
   "source": [
    "setup_notebook()"
   ]
  },
  {
   "cell_type": "code",
   "execution_count": null,
   "id": "de3738d2",
   "metadata": {},
   "outputs": [],
   "source": [
    "import boto3\n",
    "import dateutil.parser"
   ]
  },
  {
   "cell_type": "code",
   "execution_count": null,
   "id": "bc98e6ee",
   "metadata": {},
   "outputs": [],
   "source": [
    "begin_date_dt = dateutil.parser.isoparse(begin_date)\n",
    "end_date_dt = dateutil.parser.isoparse(end_date)\n",
    "data_set_id = 'f49be2ef387af522a7b6f000158113e0'"
   ]
  },
  {
   "cell_type": "code",
   "execution_count": null,
   "id": "182adadc",
   "metadata": {},
   "outputs": [],
   "source": [
    "client = boto3.client('dataexchange')"
   ]
  },
  {
   "cell_type": "code",
   "execution_count": null,
   "id": "48f62cd5",
   "metadata": {},
   "outputs": [],
   "source": [
    "response = client.list_data_set_revisions(DataSetId=data_set_id)\n",
    "revisions = response['Revisions']\n",
    "next_token = response.get('NextToken')\n",
    "while next_token is not None:\n",
    "    response = client.list_data_set_revisions(DataSetId=data_set_id,NextToken=next_token)\n",
    "    revisions.extend(response.get(\"Revisions\", []))\n",
    "    next_token = response.get('NextToken')"
   ]
  },
  {
   "cell_type": "code",
   "execution_count": null,
   "id": "464f0a35",
   "metadata": {},
   "outputs": [],
   "source": [
    "def good_revision(revision):\n",
    "    if revision['Finalized'] is False:\n",
    "        return False\n",
    "    rev_dt = dateutil.parser.isoparse(revision['Comment'])\n",
    "    if rev_dt < begin_date_dt:\n",
    "        return False\n",
    "    if rev_dt > end_date_dt:\n",
    "        return False\n",
    "    return True\n",
    "    \n",
    "revision_ids = [revision['Id'] for revision in revisions if good_revision(revision)]"
   ]
  },
  {
   "cell_type": "markdown",
   "id": "b41412bf",
   "metadata": {},
   "source": [
    "# Transfer Existing Data to S3"
   ]
  },
  {
   "cell_type": "code",
   "execution_count": null,
   "id": "6853db16",
   "metadata": {},
   "outputs": [],
   "source": [
    "for revision_id in revision_ids:\n",
    "    response = client.create_job(Details={\n",
    "        'ExportRevisionsToS3': {\n",
    "                'DataSetId': data_set_id,,\n",
    "                'RevisionDestinations': [\n",
    "                    {\n",
    "                        'Bucket': dest_bucket,\n",
    "                        'KeyPattern': '${Asset.Name}',\n",
    "                        'RevisionId': revision_id\n",
    "                    },\n",
    "                ]\n",
    "            }\n",
    "        }\n",
    "    if response['ResponseMetadata']['HTTPStatusCode'] != 200:\n",
    "        raise Exception(f\"Query raised http error {response['ResponseMetadata']['HTTPStatusCode']}\")"
   ]
  },
  {
   "cell_type": "markdown",
   "id": "720261e1",
   "metadata": {},
   "source": [
    "# Automatically Transfer New Data to S3"
   ]
  },
  {
   "cell_type": "code",
   "execution_count": null,
   "id": "5e706dc2",
   "metadata": {},
   "outputs": [],
   "source": [
    "if auto_download_new_data:\n",
    "    response = client.create_event_action(\n",
    "        Action={\n",
    "            'ExportRevisionToS3': {\n",
    "                'RevisionDestination': {\n",
    "                    'Bucket': dest_bucket,\n",
    "                    'KeyPattern': '${Asset.Name}'\n",
    "                }\n",
    "            }\n",
    "        },\n",
    "        Event={\n",
    "            'RevisionPublished': {\n",
    "                'DataSetId': data_set_id\n",
    "            }\n",
    "        }\n",
    "    )"
   ]
  }
 ],
 "metadata": {
  "kernelspec": {
   "display_name": "Python 3 (ipykernel)",
   "language": "python",
   "name": "python3"
  },
  "language_info": {
   "codemirror_mode": {
    "name": "ipython",
    "version": 3
   },
   "file_extension": ".py",
   "mimetype": "text/x-python",
   "name": "python",
   "nbconvert_exporter": "python",
   "pygments_lexer": "ipython3",
   "version": "3.9.10"
  }
 },
 "nbformat": 4,
 "nbformat_minor": 5
}
