{
 "cells": [
  {
   "cell_type": "markdown",
   "id": "e88c9df8",
   "metadata": {},
   "source": [
    "## Introduction to tomes\n",
    "\n",
    "Let's say you wanted to cluster smoke grenades on dust2. One match may have ~100 smokes which isn't enough to do clustering. To get a large enough dataset for clustering, you need hundreds of thousands or millions of smokes. You would have to loop through thousands of matches and read thousands of files. No matter the file size, reading so many files is time consuming and cumbersome.\n",
    "\n",
    "The solution to this is combining the data from many matches into a \"Tome\".  Once created, a tome allows you to read in the data from thousands of matches without having to read in thousands of files."
   ]
  },
  {
   "cell_type": "markdown",
   "id": "028fe85e",
   "metadata": {},
   "source": [
    "## Make header tome\n",
    "\n",
    "To start making tomes, we must make a *header tome*. This tome contains the path to all matches that will be considered as tome members.  The header tome maker uses glob to find your files, read in the header channel, and stitch them all together. Each row corresponds to one match. CSDS files that are not in the main header tome are invisible in subsequent steps. Right now, the file search assumes your files are nested to the same level, but a more robust csds finder is possible, just open a PR.\n",
    "\n",
    "You can also make subheader tomes that filters out some of the header tome rows. An example of a subheader tome that selects only matches on dust2 is in the second to last cell. Subheader tomes are useful when exploring certain maps, skill ranges, or any info from a match that can be found in the header. \n",
    "\n",
    "_**Run this notebook as-is.**_"
   ]
  },
  {
   "cell_type": "code",
   "execution_count": null,
   "id": "9e277e9a",
   "metadata": {},
   "outputs": [],
   "source": [
    "from pureskillgg_makenew_pyskill.notebook import setup_notebook"
   ]
  },
  {
   "cell_type": "code",
   "execution_count": null,
   "id": "8dd172ac",
   "metadata": {},
   "outputs": [],
   "source": [
    "setup_notebook()"
   ]
  },
  {
   "cell_type": "code",
   "execution_count": null,
   "id": "3354b14e",
   "metadata": {},
   "outputs": [],
   "source": [
    "import os\n",
    "from pureskillgg_dsdk.tome import create_tome_curator "
   ]
  },
  {
   "cell_type": "code",
   "execution_count": null,
   "id": "500f3c44",
   "metadata": {},
   "outputs": [],
   "source": [
    "# The curator is our interface to the tomes\n",
    "curator = create_tome_curator()"
   ]
  },
  {
   "cell_type": "code",
   "execution_count": null,
   "id": "d8bbf725",
   "metadata": {},
   "outputs": [],
   "source": [
    "header_loader = curator.get_header_loader()"
   ]
  },
  {
   "cell_type": "code",
   "execution_count": null,
   "id": "c4739ee9",
   "metadata": {},
   "outputs": [],
   "source": [
    "if not header_loader.exists:\n",
    "    header_loader = curator.create_header_tome(path_depth=7)"
   ]
  },
  {
   "cell_type": "code",
   "execution_count": null,
   "id": "0ad13495",
   "metadata": {},
   "outputs": [],
   "source": [
    "df = header_loader.get_dataframe()\n",
    "keys = header_loader.get_keyset()\n",
    "if df is None:\n",
    "    raise RuntimeError('Something went wrong when making the header.')\n",
    "print('There are',len(df),'matches in the header.')"
   ]
  },
  {
   "cell_type": "markdown",
   "id": "b35b54d9",
   "metadata": {},
   "source": [
    "## Make subheaders too\n",
    "\n",
    "You might want to analyze players on a specific map, rank, or platform. You can create \"subheaders\" that are a filtered view of the main header. The `create_subheader_tome` will create the subheader with the specified filter applied to the header tome."
   ]
  },
  {
   "cell_type": "code",
   "execution_count": null,
   "id": "75bc80ea",
   "metadata": {},
   "outputs": [],
   "source": [
    "def map_name_selector(map_name):\n",
    "    return lambda df: df['map_name']==map_name\n",
    "\n",
    "subheader_loader = curator.create_subheader_tome('subheader_dust2', map_name_selector('de_dust2'))"
   ]
  },
  {
   "cell_type": "code",
   "execution_count": null,
   "id": "93fba090",
   "metadata": {},
   "outputs": [],
   "source": [
    "df = subheader_loader.get_dataframe()"
   ]
  },
  {
   "cell_type": "code",
   "execution_count": null,
   "id": "bd9b2092",
   "metadata": {},
   "outputs": [],
   "source": [
    "df.head()"
   ]
  }
 ],
 "metadata": {
  "kernelspec": {
   "display_name": "Python 3 (ipykernel)",
   "language": "python",
   "name": "python3"
  },
  "language_info": {
   "codemirror_mode": {
    "name": "ipython",
    "version": 3
   },
   "file_extension": ".py",
   "mimetype": "text/x-python",
   "name": "python",
   "nbconvert_exporter": "python",
   "pygments_lexer": "ipython3",
   "version": "3.9.10"
  }
 },
 "nbformat": 4,
 "nbformat_minor": 5
}
