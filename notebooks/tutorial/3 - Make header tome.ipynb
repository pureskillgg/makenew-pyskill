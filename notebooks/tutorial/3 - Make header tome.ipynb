{
 "cells": [
  {
   "cell_type": "markdown",
   "id": "028fe85e",
   "metadata": {},
   "source": [
    "## Make header tome\n",
    "\n",
    "The header tome uses glob to find your files, read in the header channel, and stitch them all together into a *header tome*. Each row corresponds to one match. CSDS files that are not in the main header tome are invisible in subsequent steps. Right now, the file search assumes your files are nested to the same level, but a more robust csds finder is possible, just open a PR.\n",
    "\n",
    "You can also make subheader tomes that select a fraction of the header tome rows. An example of a subheader tome that selects only matches on dust2 is in the second to last cell. Subheader tomes are useful when exploring certain maps, skill ranges, or anything that can be selected for from a header. \n",
    "\n",
    "_**Run this notebook as-is.**_"
   ]
  },
  {
   "cell_type": "code",
   "execution_count": null,
   "id": "8dd172ac",
   "metadata": {},
   "outputs": [],
   "source": [
    "from pureskillgg_makenew_pyskill.notebook import setup_notebook"
   ]
  },
  {
   "cell_type": "code",
   "execution_count": null,
   "id": "da596593",
   "metadata": {},
   "outputs": [],
   "source": [
    "setup_notebook(silent=True)"
   ]
  },
  {
   "cell_type": "code",
   "execution_count": null,
   "id": "bc6274ba",
   "metadata": {},
   "outputs": [],
   "source": [
    "import os\n",
    "from pureskillgg_dsdk.tome import TomeCuratorFs \n",
    "curator = TomeCuratorFs()"
   ]
  },
  {
   "cell_type": "code",
   "execution_count": null,
   "id": "d8bbf725",
   "metadata": {},
   "outputs": [],
   "source": [
    "header_name = os.environ.get('PURESKILLGG_TOME_DEFAULT_HEADER_NAME')\n",
    "header_loader = curator.get_loader(header_name)"
   ]
  },
  {
   "cell_type": "code",
   "execution_count": null,
   "id": "c4739ee9",
   "metadata": {},
   "outputs": [],
   "source": [
    "if not header_loader.exists:\n",
    "    header_loader = curator.create_header_tome(path_depth=7)"
   ]
  },
  {
   "cell_type": "code",
   "execution_count": null,
   "id": "0ad13495",
   "metadata": {},
   "outputs": [],
   "source": [
    "df = curator.get_dataframe(header_name)\n",
    "keys = curator.get_keyset(header_name)\n",
    "if df is None:\n",
    "    print('something went wrong when making the header.')\n",
    "else:\n",
    "    print('there are',len(df),'matches',len(keys))"
   ]
  },
  {
   "cell_type": "code",
   "execution_count": null,
   "id": "75bc80ea",
   "metadata": {},
   "outputs": [],
   "source": [
    "def map_selector(map_name):\n",
    "    return lambda df: df['map_name']==map_name\n",
    "\n",
    "subheader_loader = curator.create_subheader_tome('subheader_dust2', map_selector('de_dust2'))"
   ]
  },
  {
   "cell_type": "code",
   "execution_count": null,
   "id": "93fba090",
   "metadata": {},
   "outputs": [],
   "source": [
    "df = subheader_loader.get_dataframe()"
   ]
  }
 ],
 "metadata": {
  "kernelspec": {
   "display_name": "Python 3 (ipykernel)",
   "language": "python",
   "name": "python3"
  },
  "language_info": {
   "codemirror_mode": {
    "name": "ipython",
    "version": 3
   },
   "file_extension": ".py",
   "mimetype": "text/x-python",
   "name": "python",
   "nbconvert_exporter": "python",
   "pygments_lexer": "ipython3",
   "version": "3.9.10"
  }
 },
 "nbformat": 4,
 "nbformat_minor": 5
}
