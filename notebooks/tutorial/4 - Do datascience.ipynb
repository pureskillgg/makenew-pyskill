{
 "cells": [
  {
   "cell_type": "markdown",
   "id": "ce671603",
   "metadata": {},
   "source": [
    "## Time to do some data science\n",
    "\n",
    "Below is an example of the thing"
   ]
  },
  {
   "cell_type": "code",
   "execution_count": null,
   "id": "5689c518",
   "metadata": {},
   "outputs": [],
   "source": [
    "from pureskillgg_makenew_pyskill.notebook import setup_notebook"
   ]
  },
  {
   "cell_type": "code",
   "execution_count": null,
   "id": "a60d787e",
   "metadata": {},
   "outputs": [],
   "source": [
    "setup_notebook()"
   ]
  },
  {
   "cell_type": "code",
   "execution_count": null,
   "id": "a70afe96",
   "metadata": {},
   "outputs": [],
   "source": [
    "# %load ../usual_suspects.py\n",
    "# pylint: disable=unused-import\n",
    "import time\n",
    "import os\n",
    "\n",
    "import pandas as pd\n",
    "import numpy as np\n",
    "import matplotlib.pyplot as plt\n",
    "\n",
    "from pureskillgg_dsdk.tome import TomeCuratorFs\n",
    "\n",
    "pd.set_option(\"display.max_columns\", 150)\n",
    "pd.set_option(\"display.max_rows\", 150)\n",
    "pd.set_option(\"display.min_rows\", 150)\n",
    "# pd.set_option('display.float_format', '{:.4f}'.format)\n",
    "\n",
    "curator = TomeCuratorFs()\n"
   ]
  },
  {
   "cell_type": "code",
   "execution_count": null,
   "id": "1b4ed755",
   "metadata": {},
   "outputs": [],
   "source": [
    "from pureskillgg_dsdk import create_ds_models, GameDsLoader, DsReaderS3, DsReaderFs"
   ]
  },
  {
   "cell_type": "code",
   "execution_count": null,
   "id": "94358814",
   "metadata": {},
   "outputs": [],
   "source": [
    "csds_reader = DsReaderFs(\n",
    "    root_path=os.environ.get('PURESKILLGG_TOME_DS_COLLECTION_PATH'),\n",
    "    manifest_key='0CTkNPRTVdUYQ5c6LOej/csds',\n",
    ")\n",
    "\n",
    "csds_loader = GameDsLoader(reader=csds_reader)"
   ]
  },
  {
   "cell_type": "code",
   "execution_count": null,
   "id": "9bb9d82b",
   "metadata": {},
   "outputs": [],
   "source": [
    "manifest = csds_loader.manifest"
   ]
  },
  {
   "cell_type": "code",
   "execution_count": null,
   "id": "7ad39697",
   "metadata": {},
   "outputs": [],
   "source": [
    "data = csds_loader.get_channels()"
   ]
  },
  {
   "cell_type": "code",
   "execution_count": null,
   "id": "16f3aef9",
   "metadata": {},
   "outputs": [],
   "source": [
    "data['grenade_state']"
   ]
  },
  {
   "cell_type": "code",
   "execution_count": null,
   "id": "1bcb33df",
   "metadata": {},
   "outputs": [],
   "source": []
  }
 ],
 "metadata": {
  "kernelspec": {
   "display_name": "Python 3 (ipykernel)",
   "language": "python",
   "name": "python3"
  },
  "language_info": {
   "codemirror_mode": {
    "name": "ipython",
    "version": 3
   },
   "file_extension": ".py",
   "mimetype": "text/x-python",
   "name": "python",
   "nbconvert_exporter": "python",
   "pygments_lexer": "ipython3",
   "version": "3.9.10"
  }
 },
 "nbformat": 4,
 "nbformat_minor": 5
}
