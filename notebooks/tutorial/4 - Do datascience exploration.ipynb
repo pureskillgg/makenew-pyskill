{
 "cells": [
  {
   "cell_type": "markdown",
   "id": "ce671603",
   "metadata": {},
   "source": [
    "## Time to do some data science\n",
    "\n",
    "Before creating a tome, we must decide on how to transform our data before concatenating. Therefore, we will explore the data for a single match. \n",
    "\n",
    "We will investigate the number of footsteps players make as a function of rank, wins, and friendly commends.\n",
    "\n",
    "After we developed the code that does our data processing, we moved them to functions and put them in `pureskillgg_makenew_pyskill\\tutorial_datascience\\footsteps_example.py` so that we can import them in the next notebook. This avoids code duplication and will let the PureSkill.gg Coach import these functions in the future!\n",
    "\n",
    "_**Run this notebook as-is.**_"
   ]
  },
  {
   "cell_type": "code",
   "execution_count": null,
   "id": "5689c518",
   "metadata": {},
   "outputs": [],
   "source": [
    "from pureskillgg_makenew_pyskill.notebook import setup_notebook"
   ]
  },
  {
   "cell_type": "code",
   "execution_count": null,
   "id": "a60d787e",
   "metadata": {},
   "outputs": [],
   "source": [
    "setup_notebook(silent=True)"
   ]
  },
  {
   "cell_type": "code",
   "execution_count": null,
   "id": "a70afe96",
   "metadata": {},
   "outputs": [],
   "source": [
    "# %load ../usual_suspects.py\n",
    "# pylint: disable=unused-import\n",
    "import time\n",
    "import os\n",
    "\n",
    "import pandas as pd\n",
    "import numpy as np\n",
    "import matplotlib.pyplot as plt\n",
    "\n",
    "from pureskillgg_dsdk.tome import create_tome_curator\n",
    "\n",
    "pd.set_option(\"display.max_columns\", 150)\n",
    "pd.set_option(\"display.max_rows\", 150)\n",
    "pd.set_option(\"display.min_rows\", 150)\n",
    "# pd.set_option('display.float_format', '{:.4f}'.format)\n",
    "\n",
    "curator = create_tome_curator()"
   ]
  },
  {
   "cell_type": "code",
   "execution_count": null,
   "id": "1b4ed755",
   "metadata": {},
   "outputs": [],
   "source": [
    "from pureskillgg_dsdk import DsReaderFs, GameDsLoader"
   ]
  },
  {
   "cell_type": "code",
   "execution_count": null,
   "id": "135122ab",
   "metadata": {},
   "outputs": [],
   "source": [
    "ds_name = os.environ.get('PURESKILLGG_TOME_DS_TYPE')\n",
    "header_name = os.environ.get('PURESKILLGG_TOME_DEFAULT_HEADER_NAME')\n",
    "df_header = curator.get_dataframe(header_name)"
   ]
  },
  {
   "cell_type": "code",
   "execution_count": null,
   "id": "4dede74a",
   "metadata": {},
   "outputs": [],
   "source": [
    "df_header.head(2)"
   ]
  },
  {
   "cell_type": "code",
   "execution_count": null,
   "id": "ad65a2ab",
   "metadata": {},
   "outputs": [],
   "source": [
    "# Just grab the first match :)\n",
    "\n",
    "full_path = df_header['ds_path'][0]\n",
    "key = df_header['key'][0]\n",
    "root_path = full_path.split(key)[0]\n",
    "manifest_key = os.sep.join([key, ds_name])\n"
   ]
  },
  {
   "cell_type": "code",
   "execution_count": null,
   "id": "94358814",
   "metadata": {},
   "outputs": [],
   "source": [
    "csds_reader = DsReaderFs(\n",
    "    root_path=root_path,\n",
    "    manifest_key=manifest_key,\n",
    ")\n",
    "\n",
    "csds_loader = GameDsLoader(reader=csds_reader)"
   ]
  },
  {
   "cell_type": "code",
   "execution_count": null,
   "id": "9bb9d82b",
   "metadata": {},
   "outputs": [],
   "source": [
    "manifest = csds_loader.manifest"
   ]
  },
  {
   "cell_type": "code",
   "execution_count": null,
   "id": "3795406c",
   "metadata": {},
   "outputs": [],
   "source": [
    "for channel in manifest['channels']:\n",
    "    print(channel['channel'], '-', len(channel['columns']), 'columns')"
   ]
  },
  {
   "cell_type": "code",
   "execution_count": null,
   "id": "7ad39697",
   "metadata": {},
   "outputs": [],
   "source": [
    "data = csds_loader.get_channels() # This reads in all channels because we gave no reading instructions."
   ]
  },
  {
   "cell_type": "code",
   "execution_count": null,
   "id": "16f3aef9",
   "metadata": {},
   "outputs": [],
   "source": [
    "data['player_footstep'].head()"
   ]
  },
  {
   "cell_type": "code",
   "execution_count": null,
   "id": "1bcb33df",
   "metadata": {},
   "outputs": [],
   "source": [
    "df_footsteps_total = (\n",
    "    data['player_footstep']\n",
    "    .groupby('player_id_fixed', as_index=False)\n",
    "    .size()\n",
    "    .rename(columns={'size':'steps'})\n",
    ")\n",
    "df_footsteps_total"
   ]
  },
  {
   "cell_type": "code",
   "execution_count": null,
   "id": "a22f6b12",
   "metadata": {},
   "outputs": [],
   "source": [
    "pi = data['player_info']\n",
    "pi.head()"
   ]
  },
  {
   "cell_type": "code",
   "execution_count": null,
   "id": "e55676c5",
   "metadata": {},
   "outputs": [],
   "source": [
    "pi_simple=pi[['player_id_fixed', 'commends_friendly', 'wins', 'rank']].groupby('player_id_fixed',as_index=False).max()\n",
    "pi_simple"
   ]
  },
  {
   "cell_type": "code",
   "execution_count": null,
   "id": "1d6d43ae",
   "metadata": {},
   "outputs": [],
   "source": [
    "map_name = data['header']['map_name'].iat[0]\n",
    "print(map_name)"
   ]
  },
  {
   "cell_type": "code",
   "execution_count": null,
   "id": "2f63b897",
   "metadata": {},
   "outputs": [],
   "source": [
    "df_final = pd.merge(df_footsteps_total, pi_simple, how='left', on='player_id_fixed')\n",
    "df_final['map_name'] = map_name\n",
    "df_final"
   ]
  }
 ],
 "metadata": {
  "kernelspec": {
   "display_name": "Python 3 (ipykernel)",
   "language": "python",
   "name": "python3"
  },
  "language_info": {
   "codemirror_mode": {
    "name": "ipython",
    "version": 3
   },
   "file_extension": ".py",
   "mimetype": "text/x-python",
   "name": "python",
   "nbconvert_exporter": "python",
   "pygments_lexer": "ipython3",
   "version": "3.9.10"
  }
 },
 "nbformat": 4,
 "nbformat_minor": 5
}
