{
 "cells": [
  {
   "cell_type": "markdown",
   "id": "ce671603",
   "metadata": {},
   "source": [
    "## Time to do some data science\n",
    "\n",
    "Below is an example of exploring the data for a single match. We will explore the number of footsteps players make as a function of rank, wins, and friendly commends.\n",
    "\n",
    "After developing the functions that do our data processing, we moved them to `pureskillgg_makenew_pyskill\\tutorial_datascience\\footsteps_example.py` so that we can export them to the next notebook and avoid code duplication. This also lets the PureSkill.gg Coach import these functions.\n",
    "\n",
    "_**Run this notebook as-is.**_"
   ]
  },
  {
   "cell_type": "code",
   "execution_count": null,
   "id": "5689c518",
   "metadata": {},
   "outputs": [],
   "source": [
    "from pureskillgg_makenew_pyskill.notebook import setup_notebook"
   ]
  },
  {
   "cell_type": "code",
   "execution_count": null,
   "id": "a60d787e",
   "metadata": {},
   "outputs": [],
   "source": [
    "setup_notebook(silent=True)"
   ]
  },
  {
   "cell_type": "code",
   "execution_count": null,
   "id": "a70afe96",
   "metadata": {},
   "outputs": [],
   "source": [
    "# %load ../usual_suspects.py\n",
    "# pylint: disable=unused-import\n",
    "import time\n",
    "import os\n",
    "\n",
    "import pandas as pd\n",
    "import numpy as np\n",
    "import matplotlib.pyplot as plt\n",
    "\n",
    "from pureskillgg_dsdk.tome import TomeCuratorFs\n",
    "\n",
    "pd.set_option(\"display.max_columns\", 150)\n",
    "pd.set_option(\"display.max_rows\", 150)\n",
    "pd.set_option(\"display.min_rows\", 150)\n",
    "# pd.set_option('display.float_format', '{:.4f}'.format)\n",
    "\n",
    "curator = TomeCuratorFs()\n"
   ]
  },
  {
   "cell_type": "code",
   "execution_count": null,
   "id": "1b4ed755",
   "metadata": {},
   "outputs": [],
   "source": [
    "from pureskillgg_dsdk import DsReaderFs, GameDsLoader"
   ]
  },
  {
   "cell_type": "code",
   "execution_count": null,
   "id": "135122ab",
   "metadata": {},
   "outputs": [],
   "source": [
    "header_name = os.environ.get('PURESKILLGG_TOME_DEFAULT_HEADER_NAME')\n",
    "df_header = curator.get_dataframe(header_name)"
   ]
  },
  {
   "cell_type": "code",
   "execution_count": null,
   "id": "4dede74a",
   "metadata": {},
   "outputs": [],
   "source": [
    "df_header.head(2)"
   ]
  },
  {
   "cell_type": "code",
   "execution_count": null,
   "id": "ad65a2ab",
   "metadata": {},
   "outputs": [],
   "source": [
    "full_path=df_header.head(2)['ds_path'][0]\n",
    "key=df_header.head(2)['key'][0]\n",
    "root_path = full_path.split(key)[0]\n",
    "manifest_key = os.sep.join([key,'csds'])\n"
   ]
  },
  {
   "cell_type": "code",
   "execution_count": null,
   "id": "0fa8e42d",
   "metadata": {},
   "outputs": [],
   "source": []
  },
  {
   "cell_type": "code",
   "execution_count": null,
   "id": "94358814",
   "metadata": {},
   "outputs": [],
   "source": [
    "# os.environ.get('PURESKILLGG_TOME_DS_COLLECTION_PATH')\n",
    "csds_reader = DsReaderFs(\n",
    "    root_path=root_path,\n",
    "    manifest_key=manifest_key,\n",
    ")\n",
    "\n",
    "csds_loader = GameDsLoader(reader=csds_reader)"
   ]
  },
  {
   "cell_type": "code",
   "execution_count": null,
   "id": "9bb9d82b",
   "metadata": {},
   "outputs": [],
   "source": [
    "manifest = csds_loader.manifest"
   ]
  },
  {
   "cell_type": "code",
   "execution_count": null,
   "id": "3795406c",
   "metadata": {},
   "outputs": [],
   "source": [
    "for channel in manifest['channels']:\n",
    "    print(channel['channel'],'-',len(channel['columns']),'columns')"
   ]
  },
  {
   "cell_type": "code",
   "execution_count": null,
   "id": "7ad39697",
   "metadata": {},
   "outputs": [],
   "source": [
    "data = csds_loader.get_channels()"
   ]
  },
  {
   "cell_type": "code",
   "execution_count": null,
   "id": "16f3aef9",
   "metadata": {},
   "outputs": [],
   "source": [
    "data['player_footstep'].head()"
   ]
  },
  {
   "cell_type": "code",
   "execution_count": null,
   "id": "1bcb33df",
   "metadata": {},
   "outputs": [],
   "source": [
    "df_footsteps_total=data['player_footstep'].groupby('player_id_fixed',as_index=False).size().rename(columns={'size':'steps'})\n",
    "df_footsteps_total"
   ]
  },
  {
   "cell_type": "code",
   "execution_count": null,
   "id": "a22f6b12",
   "metadata": {},
   "outputs": [],
   "source": [
    "pi=data['player_info']\n",
    "pi.head()"
   ]
  },
  {
   "cell_type": "code",
   "execution_count": null,
   "id": "e55676c5",
   "metadata": {},
   "outputs": [],
   "source": [
    "pi_simple=pi[['player_id_fixed','commends_friendly','wins','rank']].groupby('player_id_fixed',as_index=False).max()\n",
    "pi_simple"
   ]
  },
  {
   "cell_type": "code",
   "execution_count": null,
   "id": "1d6d43ae",
   "metadata": {},
   "outputs": [],
   "source": [
    "map_name = data['header']['map_name'].iat[0]\n",
    "print(map_name)"
   ]
  },
  {
   "cell_type": "code",
   "execution_count": null,
   "id": "2f63b897",
   "metadata": {},
   "outputs": [],
   "source": [
    "df_final = pd.merge(df_footsteps_total,pi_simple,how='left',on='player_id_fixed')\n",
    "df_final['map_name']=map_name\n",
    "df_final"
   ]
  },
  {
   "cell_type": "code",
   "execution_count": null,
   "id": "7289a914",
   "metadata": {},
   "outputs": [],
   "source": []
  },
  {
   "cell_type": "code",
   "execution_count": null,
   "id": "be674481",
   "metadata": {},
   "outputs": [],
   "source": []
  }
 ],
 "metadata": {
  "kernelspec": {
   "display_name": "Python 3 (ipykernel)",
   "language": "python",
   "name": "python3"
  },
  "language_info": {
   "codemirror_mode": {
    "name": "ipython",
    "version": 3
   },
   "file_extension": ".py",
   "mimetype": "text/x-python",
   "name": "python",
   "nbconvert_exporter": "python",
   "pygments_lexer": "ipython3",
   "version": "3.9.10"
  }
 },
 "nbformat": 4,
 "nbformat_minor": 5
}
