{
 "cells": [
  {
   "cell_type": "markdown",
   "id": "ce671603",
   "metadata": {},
   "source": [
    "## Time to do some data science\n",
    "\n",
    "Before creating a tome, we must decide on how to transform our data before concatenating. Therefore, we will explore the data for a single match. \n",
    "\n",
    "We will investigate the number of footsteps players make as a function of rank, wins, and friendly commends.\n",
    "\n",
    "After we developed the code that does our data processing, we moved them to functions and put them in `pureskillgg_makenew_pyskill\\tutorial_datascience\\footsteps_example.py` so that we can import them in the next notebook. This avoids code duplication and will let the PureSkill.gg Coach import these functions in the future!\n",
    "\n",
    "_**Run this notebook as-is.**_"
   ]
  },
  {
   "cell_type": "code",
   "execution_count": null,
   "id": "5689c518",
   "metadata": {},
   "outputs": [],
   "source": [
    "from pureskillgg_makenew_pyskill.notebook import setup_notebook"
   ]
  },
  {
   "cell_type": "code",
   "execution_count": null,
   "id": "a60d787e",
   "metadata": {},
   "outputs": [],
   "source": [
    "setup_notebook(silent=True)"
   ]
  },
  {
   "cell_type": "code",
   "execution_count": null,
   "id": "a70afe96",
   "metadata": {},
   "outputs": [],
   "source": [
    "# %load ../usual_suspects.py\n",
    "# pylint: disable=unused-import\n",
    "import time\n",
    "import os\n",
    "\n",
    "import pandas as pd\n",
    "import numpy as np\n",
    "import matplotlib.pyplot as plt\n",
    "\n",
    "from pureskillgg_dsdk.tome import create_tome_curator\n",
    "\n",
    "pd.set_option(\"display.max_columns\", 150)\n",
    "pd.set_option(\"display.max_rows\", 150)\n",
    "pd.set_option(\"display.min_rows\", 150)\n",
    "# pd.set_option('display.float_format', '{:.4f}'.format)\n",
    "\n",
    "curator = create_tome_curator()"
   ]
  },
  {
   "cell_type": "markdown",
   "id": "a24dcd1e",
   "metadata": {},
   "source": [
    "## Read in one match worth of data\n",
    "\n",
    "The tome curator also provides a convienent way to grab a random match to do some exploration on. The `get_single_match` method will return the DS Loader for that particular match.\n"
   ]
  },
  {
   "cell_type": "code",
   "execution_count": null,
   "id": "ad65a2ab",
   "metadata": {
    "scrolled": true
   },
   "outputs": [],
   "source": [
    "# Just grab the first match\n",
    "match_loader = curator.get_match_by_index(0)\n",
    "\n",
    "# Get the manifest for these data.\n",
    "manifest = match_loader.manifest\n",
    "\n",
    "# Read in all channels (you can read in a subset if you pass in reading_instructions).\n",
    "data=match_loader.get_channels()"
   ]
  },
  {
   "cell_type": "markdown",
   "id": "a70d0923",
   "metadata": {},
   "source": [
    "## Explore the CSDS\n",
    "\n",
    "The CSDS files are rich in data. Feel free to explore them in depth. Here we use the manifest file to see the available channels and how many columns they contain."
   ]
  },
  {
   "cell_type": "code",
   "execution_count": null,
   "id": "3795406c",
   "metadata": {
    "scrolled": true
   },
   "outputs": [],
   "source": [
    "for channel in manifest['channels']:\n",
    "    print(channel['channel'], '-', len(channel['columns']), 'columns')"
   ]
  },
  {
   "cell_type": "markdown",
   "id": "652bdf66",
   "metadata": {},
   "source": [
    "## Explore the relevant data and develop the engineering"
   ]
  },
  {
   "cell_type": "code",
   "execution_count": null,
   "id": "16f3aef9",
   "metadata": {},
   "outputs": [],
   "source": [
    "# Inspect player_footstep dataframe\n",
    "data['player_footstep'].head()"
   ]
  },
  {
   "cell_type": "code",
   "execution_count": null,
   "id": "1bcb33df",
   "metadata": {},
   "outputs": [],
   "source": [
    "# Count up footsteps per player\n",
    "df_footsteps_total = (\n",
    "    data['player_footstep']\n",
    "    .groupby('player_id_fixed', as_index=False)\n",
    "    .size()\n",
    "    .rename(columns={'size':'steps'})\n",
    ")\n",
    "df_footsteps_total"
   ]
  },
  {
   "cell_type": "code",
   "execution_count": null,
   "id": "a22f6b12",
   "metadata": {},
   "outputs": [],
   "source": [
    "# Inspect player_info dataframe\n",
    "pi = data['player_info']\n",
    "pi.head()"
   ]
  },
  {
   "cell_type": "code",
   "execution_count": null,
   "id": "e55676c5",
   "metadata": {},
   "outputs": [],
   "source": [
    "# Inspect player_info dataframe\n",
    "pi_simple = pi[['player_id_fixed', 'commends_friendly', 'wins', 'rank']].groupby('player_id_fixed',as_index=False).max()\n",
    "pi_simple"
   ]
  },
  {
   "cell_type": "code",
   "execution_count": null,
   "id": "1d6d43ae",
   "metadata": {},
   "outputs": [],
   "source": [
    "# Get the map name\n",
    "map_name = data['header']['map_name'].iat[0]\n",
    "print(map_name)"
   ]
  },
  {
   "cell_type": "code",
   "execution_count": null,
   "id": "2f63b897",
   "metadata": {},
   "outputs": [],
   "source": [
    "# Combine the data into a final dataframe\n",
    "df_final = pd.merge(df_footsteps_total, pi_simple, how='left', on='player_id_fixed')\n",
    "df_final['map_name'] = map_name\n",
    "df_final"
   ]
  },
  {
   "cell_type": "markdown",
   "id": "e7e94269",
   "metadata": {},
   "source": [
    "Advance to the [next notebook](5%20-%20Create%20tome.ipynb)."
   ]
  },
  {
   "cell_type": "code",
   "execution_count": null,
   "id": "ce47baf7",
   "metadata": {},
   "outputs": [],
   "source": []
  }
 ],
 "metadata": {
  "kernelspec": {
   "display_name": "Python 3 (ipykernel)",
   "language": "python",
   "name": "python3"
  },
  "language_info": {
   "codemirror_mode": {
    "name": "ipython",
    "version": 3
   },
   "file_extension": ".py",
   "mimetype": "text/x-python",
   "name": "python",
   "nbconvert_exporter": "python",
   "pygments_lexer": "ipython3",
   "version": "3.9.12"
  }
 },
 "nbformat": 4,
 "nbformat_minor": 5
}
